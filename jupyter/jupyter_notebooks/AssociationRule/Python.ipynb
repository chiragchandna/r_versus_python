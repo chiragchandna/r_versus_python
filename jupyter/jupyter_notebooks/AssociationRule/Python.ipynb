{
 "cells": [
  {
   "cell_type": "markdown",
   "metadata": {},
   "source": [
    "## Load Libraries"
   ]
  },
  {
   "cell_type": "code",
   "execution_count": 10,
   "metadata": {},
   "outputs": [],
   "source": [
    "import numpy as np\n",
    "import matplotlib.pyplot as plt\n",
    "import pandas as pd\n",
    "import math\n",
    "import itertools\n",
    "from collections import Counter"
   ]
  },
  {
   "cell_type": "markdown",
   "metadata": {},
   "source": [
    "## Import Data"
   ]
  },
  {
   "cell_type": "code",
   "execution_count": 3,
   "metadata": {},
   "outputs": [],
   "source": [
    "dataset = pd.read_csv('Market_Basket_Optimisation.csv', header = None)"
   ]
  },
  {
   "cell_type": "code",
   "execution_count": 4,
   "metadata": {},
   "outputs": [],
   "source": [
    "transactions = []\n",
    "for i in range(0, 7501):\n",
    "    transaction = list()\n",
    "    for j in range(0,20):\n",
    "        if str(dataset.values[i,j]) != 'nan':\n",
    "            transaction.append(str(dataset.values[i,j]))\n",
    "    transactions.append(transaction)"
   ]
  },
  {
   "cell_type": "markdown",
   "metadata": {},
   "source": [
    "## Print Summary and Histogram"
   ]
  },
  {
   "cell_type": "code",
   "execution_count": 38,
   "metadata": {},
   "outputs": [],
   "source": [
    "totals = Counter(i for i in list(itertools.chain.from_iterable(transactions)))\n",
    "\n",
    "for count in totals:\n",
    "    totals[count] = totals[count] / len(transactions)"
   ]
  },
  {
   "cell_type": "code",
   "execution_count": 39,
   "metadata": {},
   "outputs": [
    {
     "data": {
      "image/png": "[encoded data removed]",
      "text/plain": [
       "<Figure size 432x288 with 1 Axes>"
      ]
     },
     "metadata": {
      "needs_background": "light"
     },
     "output_type": "display_data"
    }
   ],
   "source": [
    "n = 30\n",
    "\n",
    "labels, values = zip(*totals.most_common(n))\n",
    "\n",
    "indexes = np.arange(len(labels))\n",
    "width = 1\n",
    "\n",
    "plt.bar(indexes[:n], values[:n], width)\n",
    "plt.xticks(indexes[:n], labels, rotation='vertical')\n",
    "plt.show()"
   ]
  },
  {
   "cell_type": "markdown",
   "metadata": {},
   "source": [
    "## Training Apriori on the dataset"
   ]
  },
  {
   "cell_type": "code",
   "execution_count": 40,
   "metadata": {},
   "outputs": [],
   "source": [
    "from apyori import apriori\n",
    "rules = apriori(transactions, min_support = 0.004, min_confidence = 0.2, min_lift = 3, min_length = 2)"
   ]
  },
  {
   "cell_type": "markdown",
   "metadata": {},
   "source": [
    "## Sort Data"
   ]
  },
  {
   "cell_type": "code",
   "execution_count": 41,
   "metadata": {},
   "outputs": [],
   "source": [
    "def takeLift(elem):\n",
    "    return elem.ordered_statistics[0].lift"
   ]
  },
  {
   "cell_type": "code",
   "execution_count": 42,
   "metadata": {},
   "outputs": [],
   "source": [
    "results = list(rules)\n",
    "results.sort(key=takeLift,reverse=True)"
   ]
  },
  {
   "cell_type": "markdown",
   "metadata": {},
   "source": [
    "## Print Results"
   ]
  },
  {
   "cell_type": "code",
   "execution_count": 43,
   "metadata": {},
   "outputs": [
    {
     "name": "stdout",
     "output_type": "stream",
     "text": [
      "Rule                                              Conf.      Lift      \n",
      "light cream             ->   chicken              0.2906     4.8440    \n",
      "\n",
      "pasta                   ->   escalope             0.3729     4.7008    \n",
      "\n",
      "pasta                   ->   shrimp               0.3220     4.5067    \n",
      "\n",
      "eggs, ground beef       ->   herb & pepper        0.2067     4.1785    \n",
      "\n",
      "whole wheat pasta       ->   olive oil            0.2715     4.1224    \n",
      "\n",
      "spaghetti, herb & pe    ->   ground beef          0.3934     4.0044    \n",
      "\n",
      "mineral water, herb     ->   ground beef          0.3906     3.9757    \n",
      "\n",
      "tomato sauce            ->   ground beef          0.3774     3.8407    \n",
      "\n",
      "mushroom cream sauce    ->   escalope             0.3007     3.7908    \n",
      "\n",
      "mineral water, froze    ->   ground beef          0.3667     3.7318    \n",
      "\n",
      "olive oil, tomatoes     ->   spaghetti            0.6111     3.5099    \n",
      "\n",
      "spaghetti, frozen ve    ->   tomatoes             0.2392     3.4980    \n",
      "\n",
      "mineral water, soup     ->   olive oil            0.2254     3.4230    \n",
      "\n",
      "milk, ground beef       ->   olive oil            0.2242     3.4049    \n",
      "\n",
      "herb & pepper           ->   ground beef          0.3235     3.2920    \n",
      "\n",
      "spaghetti, grated ch    ->   ground beef          0.3226     3.2831    \n",
      "\n",
      "cooking oil, ground     ->   spaghetti            0.5714     3.2820    \n",
      "\n",
      "chocolate, frozen ve    ->   shrimp               0.2326     3.2545    \n",
      "\n",
      "mineral water, shrim    ->   frozen vegetables    0.3051     3.2006    \n",
      "\n",
      "spaghetti, frozen ve    ->   ground beef          0.3110     3.1653    \n",
      "\n",
      "spaghetti, frozen ve    ->   olive oil            0.2057     3.1240    \n",
      "\n",
      "tomatoes, milk          ->   frozen vegetables    0.2952     3.0973    \n",
      "\n",
      "frozen vegetables, m    ->   olive oil            0.2034     3.0883    \n",
      "\n",
      "spaghetti, milk         ->   olive oil            0.2030     3.0825    \n",
      "\n",
      "spaghetti, pancakes     ->   olive oil            0.2011     3.0529    \n",
      "\n",
      "spaghetti, mineral w    ->   frozen vegetables    0.2881     3.0228    \n",
      "\n",
      "spaghetti, frozen ve    ->   shrimp               0.2153     3.0131    \n",
      "\n",
      "ground beef, shrimp     ->   spaghetti            0.5233     3.0053    \n",
      "\n"
     ]
    }
   ],
   "source": [
    "print('{:<20}  {:>5}  {:<20} {:<10} {:<10}'.format(\"Rule\",\"\",\"\",\"Conf.\",\"Lift\"))\n",
    "for result in results:\n",
    "    print('{:<20}  {:>5}  {:<20} {:<10} {:<10}'.format(', '.join(result.ordered_statistics[0].items_base)[:20],\" -> \",', '.join(result.ordered_statistics[0].items_add)[:20],\"{0:.4f}\".format(result.ordered_statistics[0].confidence),\"{0:.4f}\".format(result.ordered_statistics[0].lift)))\n",
    "    print(\"\") "
   ]
  },
  {
   "cell_type": "code",
   "execution_count": null,
   "metadata": {},
   "outputs": [],
   "source": []
  }
 ],
 "metadata": {
  "kernelspec": {
   "display_name": "Python 3",
   "language": "python",
   "name": "python3"
  },
  "language_info": {
   "codemirror_mode": {
    "name": "ipython",
    "version": 3
   },
   "file_extension": ".py",
   "mimetype": "text/x-python",
   "name": "python",
   "nbconvert_exporter": "python",
   "pygments_lexer": "ipython3",
   "version": "3.7.1"
  }
 },
 "nbformat": 4,
 "nbformat_minor": 2
}

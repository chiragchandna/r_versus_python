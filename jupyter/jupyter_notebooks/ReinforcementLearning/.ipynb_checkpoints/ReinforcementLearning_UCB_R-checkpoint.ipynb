{
 "cells": [
  {
   "cell_type": "markdown",
   "metadata": {},
   "source": [
    "## Getting the dataset"
   ]
  },
  {
   "cell_type": "code",
   "execution_count": null,
   "metadata": {},
   "outputs": [],
   "source": [
    "dataset = read.csv('Ad_Click_Data.csv')"
   ]
  },
  {
   "cell_type": "markdown",
   "metadata": {},
   "source": [
    "## Implementing the UCB Algorithm"
   ]
  },
  {
   "cell_type": "code",
   "execution_count": null,
   "metadata": {},
   "outputs": [],
   "source": [
    "N = 4000\n",
    "d = 5\n",
    "ads_selected = integer(0)\n",
    "numbers_of_selections = integer(d)\n",
    "sums_of_rewards = integer(d)\n",
    "total_reward = 0\n",
    "for (n in 1:N) {\n",
    "  ad = 0\n",
    "  max_upper_bound = 0\n",
    "  for (i in 1:d) {\n",
    "    if (numbers_of_selections[i] > 0) {\n",
    "      average_reward = sums_of_rewards[i] / numbers_of_selections[i]\n",
    "      delta_i = sqrt(3/2 * log(n) / numbers_of_selections[i])\n",
    "      upper_bound = average_reward + delta_i\n",
    "    } else {\n",
    "      upper_bound = 1e400\n",
    "    }\n",
    "    if (upper_bound > max_upper_bound) {\n",
    "      max_upper_bound = upper_bound\n",
    "      ad = i\n",
    "    }\n",
    "  }\n",
    "  ads_selected = append(ads_selected, ad)\n",
    "  numbers_of_selections[ad] = numbers_of_selections[ad] + 1\n",
    "  reward = dataset[n, ad]\n",
    "  sums_of_rewards[ad] = sums_of_rewards[ad] + reward\n",
    "  total_reward = total_reward + reward\n",
    "}"
   ]
  },
  {
   "cell_type": "markdown",
   "metadata": {},
   "source": [
    "## Visualizing results in a histogram"
   ]
  },
  {
   "cell_type": "code",
   "execution_count": null,
   "metadata": {},
   "outputs": [],
   "source": [
    "hist(ads_selected,\n",
    "     col = 'blue',\n",
    "     main = 'Histogram of ads selections',\n",
    "     xlab = 'Ads',\n",
    "     ylab = 'Number of times each ad was selected')"
   ]
  },
  {
   "cell_type": "code",
   "execution_count": null,
   "metadata": {},
   "outputs": [],
   "source": []
  }
 ],
 "metadata": {
  "kernelspec": {
   "display_name": "R",
   "language": "R",
   "name": "ir"
  },
  "language_info": {
   "codemirror_mode": "r",
   "file_extension": ".r",
   "mimetype": "text/x-r-source",
   "name": "R",
   "pygments_lexer": "r",
   "version": "3.5.1"
  }
 },
 "nbformat": 4,
 "nbformat_minor": 2
}

{
 "cells": [
  {
   "cell_type": "markdown",
   "metadata": {},
   "source": [
    "## Load libraries"
   ]
  },
  {
   "cell_type": "code",
   "execution_count": null,
   "metadata": {},
   "outputs": [],
   "source": [
    "library(keras)\n",
    "library(dplyr)\n",
    "library(scales)"
   ]
  },
  {
   "cell_type": "markdown",
   "metadata": {},
   "source": [
    "## Import dataset\n",
    "Information about customers consists of 86 variables and includes product usage data and socio-demographic data derived from zip area codes. The data was supplied by the Dutch data mining company Sentient Machine Research and is based on a real world business problem. \n",
    "You can download it [here](https://archive.ics.uci.edu/ml/machine-learning-databases/tic-mld/) "
   ]
  },
  {
   "cell_type": "code",
   "execution_count": null,
   "metadata": {},
   "outputs": [],
   "source": [
    "filename <- \"ticdata2000.txt\"\n",
    "df <- read.table(filename,header=FALSE)"
   ]
  },
  {
   "cell_type": "markdown",
   "metadata": {},
   "source": [
    "## View data\n",
    "Data dictionary can be seen [here](https://archive.ics.uci.edu/ml/machine-learning-databases/tic-mld/TicDataDescr.txt)\n",
    "\n",
    "In our use case, we have 85 criteria on users seeing an ad. The last column indicates if they clicked it."
   ]
  },
  {
   "cell_type": "code",
   "execution_count": null,
   "metadata": {},
   "outputs": [],
   "source": [
    "head(df)"
   ]
  },
  {
   "cell_type": "markdown",
   "metadata": {},
   "source": [
    "## Split data into trainning and test set"
   ]
  },
  {
   "cell_type": "code",
   "execution_count": null,
   "metadata": {},
   "outputs": [],
   "source": [
    "train <- sample_frac(df,.8)\n",
    "sid<-as.numeric(rownames(train)) # because rownames() returns character\n",
    "test<-df[-sid,]"
   ]
  },
  {
   "cell_type": "code",
   "execution_count": null,
   "metadata": {},
   "outputs": [],
   "source": [
    "print(dim(train))\n",
    "print(dim(test))"
   ]
  },
  {
   "cell_type": "markdown",
   "metadata": {},
   "source": [
    "## Scale data into range between 0 - 1"
   ]
  },
  {
   "cell_type": "code",
   "execution_count": null,
   "metadata": {},
   "outputs": [],
   "source": [
    "train_scaled <- apply(train,MARGIN = 2, FUN = function(X) rescale(X,to=c(0,1)))\n",
    "test_scaled <- apply(test,MARGIN = 2, FUN = function(X) rescale(X,to=c(0,1)))"
   ]
  },
  {
   "cell_type": "markdown",
   "metadata": {},
   "source": [
    "Seperate predictors from target value"
   ]
  },
  {
   "cell_type": "code",
   "execution_count": null,
   "metadata": {},
   "outputs": [],
   "source": [
    "x_train <- train_scaled[,-86]\n",
    "y_train <- train_scaled[,86]"
   ]
  },
  {
   "cell_type": "code",
   "execution_count": null,
   "metadata": {},
   "outputs": [],
   "source": [
    "x_test <- test_scaled[,-86]\n",
    "y_test <- test_scaled[,86]"
   ]
  },
  {
   "cell_type": "markdown",
   "metadata": {},
   "source": [
    "## Build Keras Model"
   ]
  },
  {
   "cell_type": "code",
   "execution_count": null,
   "metadata": {},
   "outputs": [],
   "source": [
    "model <- keras_model_sequential() \n",
    "model %>% \n",
    "  layer_dense(units = 50, activation = 'relu', input_shape = c(85)) %>% \n",
    "  layer_dense(units = 100, activation = 'relu') %>%\n",
    "  layer_dense(units = 50, activation = 'relu') %>%\n",
    "  layer_dense(units = 50, activation = 'relu') %>%\n",
    "  layer_dense(units = 30, activation = 'relu') %>%\n",
    "  layer_dense(units = 1, activation = 'sigmoid')\n",
    "model %>% compile(\n",
    "  loss = 'mean_squared_error',\n",
    "  optimizer = optimizer_adam(),\n",
    "  metrics = c('accuracy')\n",
    ")"
   ]
  },
    {
   "cell_type": "code",
   "execution_count": null,
   "metadata": {},
   "outputs": [],
   "source": [
    "summary(model)"
   ]
  },
  {
   "cell_type": "markdown",
   "metadata": {},
   "source": [
    "## Train Model"
   ]
  },
  {
   "cell_type": "code",
   "execution_count": null,
   "metadata": {},
   "outputs": [],
   "source": [
    "history <- model %>% fit(\n",
    "  x_train, y_train, \n",
    "  epochs = 10,\n",
    "  shuffle = TRUE,\n",
    "  verbose=2,\n",
    "  validation_data=list(x_test,y_test)\n",
    ")"
   ]
  },
  {
   "cell_type": "markdown",
   "metadata": {},
   "source": [
    "### We do not get any output due as the r package runs python in the background and therefore the r console has no output"
   ]
  },
  {
   "cell_type": "markdown",
   "metadata": {},
   "source": [
    "## Plot history"
   ]
  },
  {
   "cell_type": "code",
   "execution_count": null,
   "metadata": {
    "scrolled": true
   },
   "outputs": [],
   "source": [
    "plot(history)"
   ]
  },
  {
   "cell_type": "markdown",
   "metadata": {},
   "source": [
    "## Evaluate Test Set"
   ]
  },
  {
   "cell_type": "code",
   "execution_count": null,
   "metadata": {},
   "outputs": [],
   "source": [
    "test_error_rate <- model %>% evaluate(x_test,y_test,verbose=0)"
   ]
  },
  {
   "cell_type": "code",
   "execution_count": null,
   "metadata": {},
   "outputs": [],
   "source": [
    "test_error_rate"
   ]
  }
 ],
 "metadata": {
  "kernelspec": {
   "display_name": "R",
   "language": "R",
   "name": "ir"
  },
  "language_info": {
   "codemirror_mode": "r",
   "file_extension": ".r",
   "mimetype": "text/x-r-source",
   "name": "R",
   "pygments_lexer": "r",
   "version": "3.5.1"
  }
 },
 "nbformat": 4,
 "nbformat_minor": 2
}

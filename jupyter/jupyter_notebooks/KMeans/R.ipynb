{
 "cells": [
  {
   "cell_type": "markdown",
   "metadata": {},
   "source": [
    "# K-Means Clustering"
   ]
  },
  {
   "cell_type": "markdown",
   "metadata": {},
   "source": [
    "## Imorting the Data"
   ]
  },
  {
   "cell_type": "code",
   "execution_count": 1,
   "metadata": {},
   "outputs": [],
   "source": [
    "dataset <- read.csv(\"CustomerData.csv\")\n",
    "X <- dataset[4:5]"
   ]
  },
  {
   "cell_type": "markdown",
   "metadata": {},
   "source": [
    "## Elbow Method"
   ]
  },
  {
   "cell_type": "code",
   "execution_count": 2,
   "metadata": {},
   "outputs": [],
   "source": [
    "set.seed(6)\n",
    "wcss <- vector()\n",
    "for(i in 1:10) wcss[i] <- sum(kmeans(X,i)$withinss)\n",
    "plot(1:10, wcss, type = \"b\", main = paste('Cluster of clients'), xlab = \"Number of clusters\", ylab = \"WCSS\")"
   ]
  },
  {
   "cell_type": "markdown",
   "metadata": {},
   "source": [
    "## KMeans Clustering"
   ]
  },
  {
   "cell_type": "code",
   "execution_count": 3,
   "metadata": {},
   "outputs": [],
   "source": [
    "set.seed(29)\n",
    "kmeans <-kmeans(X, 6, iter.max = 300, nstart = 10)"
   ]
  },
  {
   "cell_type": "markdown",
   "metadata": {},
   "source": [
    "## Scatter Plot"
   ]
  },
  {
   "cell_type": "code",
   "execution_count": 4,
   "metadata": {},
   "outputs": [],
   "source": [
    "library(cluster)\n",
    "clusplot(X, \n",
    "         kmeans$cluster, \n",
    "         lines = 0, \n",
    "         shade = TRUE, \n",
    "         color = TRUE, \n",
    "         labels = 1, \n",
    "         plotchar = FALSE, \n",
    "         span = TRUE, \n",
    "         main = paste ('Clusters of clients'), \n",
    "         xlab = \"Avg Time on Site\",\n",
    "         ylab = \"Avg Amount Spent\")"
   ]
  },
  {
   "cell_type": "code",
   "execution_count": null,
   "metadata": {},
   "outputs": [],
   "source": []
  }
 ],
 "metadata": {
  "kernelspec": {
   "display_name": "R",
   "language": "R",
   "name": "ir"
  },
  "language_info": {
   "codemirror_mode": "r",
   "file_extension": ".r",
   "mimetype": "text/x-r-source",
   "name": "R",
   "pygments_lexer": "r",
   "version": "3.5.1"
  }
 },
 "nbformat": 4,
 "nbformat_minor": 2
}

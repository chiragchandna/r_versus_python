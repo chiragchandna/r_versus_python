{
 "cells": [
  {
   "cell_type": "markdown",
   "metadata": {},
   "source": [
    "#### Loading the dataset"
   ]
  },
  {
   "cell_type": "code",
   "execution_count": 1,
   "metadata": {},
   "outputs": [],
   "source": [
    "dataset = read.csv('Google_Data.csv')\n",
    "\n",
    "google_data = data.frame(matrix(NA, nrow = 1000, ncol = 15))\n",
    "colnames(google_data) <- c(\"U1G0\",\"U2G0\",\"U3G0\",\"U4G0\",\"U0G1\",\"U1G1\",\"U2G1\",\"U3G1\",\n",
    "                         \"U0G2\",\"U1G2\",\"U2G2\",\"U0G3\",\"U1G3\",\"U0G4\", \"Price\")\n"
   ]
  },
  {
   "cell_type": "markdown",
   "metadata": {},
   "source": [
    "#### Testing the dataset"
   ]
  },
  {
   "cell_type": "code",
   "execution_count": 2,
   "metadata": {},
   "outputs": [],
   "source": [
    "google_data$U1G0 = dataset$Users^1 * 1 \n",
    "google_data$U2G0 = dataset$Users^2 * 1\n",
    "google_data$U3G0 = dataset$Users^3 * 1\n",
    "google_data$U4G0 = dataset$Users^4 * 1\n",
    "google_data$U0G1 = 1 * dataset$Gb^1 \n",
    "google_data$U1G1 = dataset$Users^1 * dataset$Gb^1\n",
    "google_data$U2G1 = dataset$Users^2 * dataset$Gb^1\n",
    "google_data$U3G1 = dataset$Users^3 * dataset$Gb^1\n",
    "google_data$U0G2 = 1 * dataset$Gb^2\n",
    "google_data$U1G2 = dataset$Users^1 * dataset$Gb^2\n",
    "google_data$U2G2 = dataset$Users^2 * dataset$Gb^2\n",
    "google_data$U0G3 = 1 * dataset$Gb^3\n",
    "google_data$U1G3 = dataset$Users^1 * dataset$Gb^3\n",
    "google_data$U0G4 = 1 * dataset$Gb^4\n",
    "google_data$Price = dataset$Price"
   ]
  },
  {
   "cell_type": "markdown",
   "metadata": {},
   "source": [
    "#### Training the dataset with 4 polynomial degree"
   ]
  },
  {
   "cell_type": "code",
   "execution_count": 3,
   "metadata": {},
   "outputs": [
    {
     "data": {
      "text/plain": [
       "\n",
       "Call:\n",
       "lm(formula = Price ~ U1G0 + U2G0 + U3G0 + U4G0 + U0G1 + U1G1 + \n",
       "    U2G1 + U3G1 + U0G2 + U1G2 + U2G2 + U0G3 + U1G3 + U0G4, data = google_data)\n",
       "\n",
       "Residuals:\n",
       "       Min         1Q     Median         3Q        Max \n",
       "-0.0047315 -0.0022177 -0.0000763  0.0020640  0.0048648 \n",
       "\n",
       "Coefficients:\n",
       "              Estimate Std. Error   t value Pr(>|t|)    \n",
       "(Intercept) -8.092e-04  1.147e-03    -0.706    0.481    \n",
       "U1G0         1.024e-03  6.946e-04     1.475    0.141    \n",
       "U2G0        -2.721e-04  1.713e-04    -1.589    0.112    \n",
       "U3G0         2.829e-05  1.781e-05     1.588    0.113    \n",
       "U4G0        -1.031e-06  6.545e-07    -1.575    0.116    \n",
       "U0G1         2.000e-01  2.911e-06 68694.507   <2e-16 ***\n",
       "U1G1        -1.249e-07  6.034e-07    -0.207    0.836    \n",
       "U2G1         3.859e-08  6.149e-08     0.628    0.530    \n",
       "U3G1        -1.036e-09  2.606e-09    -0.398    0.691    \n",
       "U0G2         2.916e-09  3.059e-09     0.953    0.341    \n",
       "U1G2        -1.157e-10  2.728e-10    -0.424    0.672    \n",
       "U2G2        -4.718e-12  1.101e-11    -0.429    0.668    \n",
       "U0G3        -1.249e-12  1.393e-12    -0.897    0.370    \n",
       "U1G3         3.914e-14  4.824e-14     0.811    0.417    \n",
       "U0G4         1.636e-16  2.282e-16     0.717    0.474    \n",
       "---\n",
       "Signif. codes:  0 ‘***’ 0.001 ‘**’ 0.01 ‘*’ 0.05 ‘.’ 0.1 ‘ ’ 1\n",
       "\n",
       "Residual standard error: 0.002839 on 985 degrees of freedom\n",
       "Multiple R-squared:      1,\tAdjusted R-squared:      1 \n",
       "F-statistic: 2.679e+11 on 14 and 985 DF,  p-value: < 2.2e-16\n"
      ]
     },
     "metadata": {},
     "output_type": "display_data"
    }
   ],
   "source": [
    "poly_reg = lm(formula = Price ~ U1G0 + U2G0 + U3G0 + U4G0 + U0G1 + \n",
    "                U1G1 + U2G1 + U3G1 + U0G2 + U1G2 + U2G2 + U0G3 + U1G3 + U0G4 , data = google_data)\n",
    "summary(poly_reg)"
   ]
  },
  {
   "cell_type": "code",
   "execution_count": 4,
   "metadata": {},
   "outputs": [
    {
     "data": {
      "text/plain": [
       "\n",
       "Call:\n",
       "lm(formula = Price ~ U1G0 + U2G0 + U3G0 + U4G0 + U0G1 + U1G1 + \n",
       "    U2G1 + U3G1 + U0G2 + U1G2 + U2G2 + U0G3 + U1G3 + U0G4, data = google_data)\n",
       "\n",
       "Residuals:\n",
       "       Min         1Q     Median         3Q        Max \n",
       "-0.0047315 -0.0022177 -0.0000763  0.0020640  0.0048648 \n",
       "\n",
       "Coefficients:\n",
       "              Estimate Std. Error   t value Pr(>|t|)    \n",
       "(Intercept) -8.092e-04  1.147e-03    -0.706    0.481    \n",
       "U1G0         1.024e-03  6.946e-04     1.475    0.141    \n",
       "U2G0        -2.721e-04  1.713e-04    -1.589    0.112    \n",
       "U3G0         2.829e-05  1.781e-05     1.588    0.113    \n",
       "U4G0        -1.031e-06  6.545e-07    -1.575    0.116    \n",
       "U0G1         2.000e-01  2.911e-06 68694.507   <2e-16 ***\n",
       "U1G1        -1.249e-07  6.034e-07    -0.207    0.836    \n",
       "U2G1         3.859e-08  6.149e-08     0.628    0.530    \n",
       "U3G1        -1.036e-09  2.606e-09    -0.398    0.691    \n",
       "U0G2         2.916e-09  3.059e-09     0.953    0.341    \n",
       "U1G2        -1.157e-10  2.728e-10    -0.424    0.672    \n",
       "U2G2        -4.718e-12  1.101e-11    -0.429    0.668    \n",
       "U0G3        -1.249e-12  1.393e-12    -0.897    0.370    \n",
       "U1G3         3.914e-14  4.824e-14     0.811    0.417    \n",
       "U0G4         1.636e-16  2.282e-16     0.717    0.474    \n",
       "---\n",
       "Signif. codes:  0 ‘***’ 0.001 ‘**’ 0.01 ‘*’ 0.05 ‘.’ 0.1 ‘ ’ 1\n",
       "\n",
       "Residual standard error: 0.002839 on 985 degrees of freedom\n",
       "Multiple R-squared:      1,\tAdjusted R-squared:      1 \n",
       "F-statistic: 2.679e+11 on 14 and 985 DF,  p-value: < 2.2e-16\n"
      ]
     },
     "metadata": {},
     "output_type": "display_data"
    }
   ],
   "source": [
    "poly_reg = lm(formula = Price ~ U1G0 + U2G0 + U3G0 + U4G0 + U0G1 + \n",
    "                U1G1 + U2G1 + U3G1 + U0G2 + U1G2 + U2G2 + U0G3 + U1G3 + U0G4 , data = google_data)\n",
    "summary(poly_reg)"
   ]
  },
  {
   "cell_type": "code",
   "execution_count": 5,
   "metadata": {},
   "outputs": [
    {
     "data": {
      "text/plain": [
       "\n",
       "Call:\n",
       "lm(formula = Price ~ U1G0 + U3G0 + U4G0 + U0G1 + U1G1 + U2G1 + \n",
       "    U3G1 + U0G2 + U1G2 + U2G2 + U0G3 + U0G4, data = google_data)\n",
       "\n",
       "Residuals:\n",
       "       Min         1Q     Median         3Q        Max \n",
       "-0.0044350 -0.0022169 -0.0000822  0.0020963  0.0042997 \n",
       "\n",
       "Coefficients:\n",
       "              Estimate Std. Error   t value Pr(>|t|)    \n",
       "(Intercept) -1.637e-04  8.776e-04    -0.187    0.852    \n",
       "U1G0         6.571e-05  2.697e-04     0.244    0.808    \n",
       "U3G0         1.295e-06  5.254e-06     0.246    0.805    \n",
       "U4G0        -1.370e-07  3.287e-07    -0.417    0.677    \n",
       "U0G1         2.000e-01  2.304e-06 86822.620   <2e-16 ***\n",
       "U1G1        -6.645e-08  4.900e-07    -0.136    0.892    \n",
       "U2G1        -3.789e-09  5.420e-08    -0.070    0.944    \n",
       "U3G1         8.713e-10  2.298e-09     0.379    0.705    \n",
       "U0G2         1.998e-09  2.709e-09     0.737    0.461    \n",
       "U1G2         3.832e-11  1.485e-10     0.258    0.796    \n",
       "U2G2        -3.171e-12  1.086e-11    -0.292    0.770    \n",
       "U0G3        -1.104e-12  1.361e-12    -0.811    0.417    \n",
       "U0G4         1.850e-16  2.280e-16     0.811    0.417    \n",
       "---\n",
       "Signif. codes:  0 ‘***’ 0.001 ‘**’ 0.01 ‘*’ 0.05 ‘.’ 0.1 ‘ ’ 1\n",
       "\n",
       "Residual standard error: 0.00284 on 987 degrees of freedom\n",
       "Multiple R-squared:      1,\tAdjusted R-squared:      1 \n",
       "F-statistic: 3.122e+11 on 12 and 987 DF,  p-value: < 2.2e-16\n"
      ]
     },
     "metadata": {},
     "output_type": "display_data"
    }
   ],
   "source": [
    "poly_reg = lm(formula = Price ~ U1G0 + U3G0 + U4G0 + U0G1 + U1G1 + U2G1 + U3G1 + \n",
    "                U0G2 + U1G2 + U2G2 + U0G3 + U0G4 , data = google_data)\n",
    "summary(poly_reg)"
   ]
  },
  {
   "cell_type": "code",
   "execution_count": 6,
   "metadata": {},
   "outputs": [
    {
     "data": {
      "text/plain": [
       "\n",
       "Call:\n",
       "lm(formula = Price ~ U1G0 + U3G0 + U4G0 + U1G1 + U2G1 + U3G1 + \n",
       "    U0G2 + U1G2 + U2G2 + U0G3 + U0G4, data = google_data)\n",
       "\n",
       "Residuals:\n",
       "    Min      1Q  Median      3Q     Max \n",
       "-50.702  -4.373   1.220   5.678  12.661 \n",
       "\n",
       "Coefficients:\n",
       "              Estimate Std. Error t value Pr(>|t|)    \n",
       "(Intercept)  5.459e+01  1.691e+00  32.276  < 2e-16 ***\n",
       "U1G0        -9.088e+00  6.866e-01 -13.235  < 2e-16 ***\n",
       "U3G0         1.172e-01  1.403e-02   8.357  < 2e-16 ***\n",
       "U4G0        -5.856e-03  8.885e-04  -6.591 7.10e-11 ***\n",
       "U1G1         2.125e-02  1.173e-03  18.122  < 2e-16 ***\n",
       "U2G1        -1.706e-03  1.395e-04 -12.223  < 2e-16 ***\n",
       "U3G1         2.674e-05  6.289e-06   4.252 2.32e-05 ***\n",
       "U0G2         2.075e-04  3.520e-06  58.953  < 2e-16 ***\n",
       "U1G2        -6.065e-06  3.621e-07 -16.752  < 2e-16 ***\n",
       "U2G2         3.869e-07  2.735e-08  14.148  < 2e-16 ***\n",
       "U0G3        -9.085e-08  2.404e-09 -37.783  < 2e-16 ***\n",
       "U0G4         1.432e-11  4.348e-13  32.946  < 2e-16 ***\n",
       "---\n",
       "Signif. codes:  0 ‘***’ 0.001 ‘**’ 0.01 ‘*’ 0.05 ‘.’ 0.1 ‘ ’ 1\n",
       "\n",
       "Residual standard error: 7.846 on 988 degrees of freedom\n",
       "Multiple R-squared:  0.998,\tAdjusted R-squared:  0.998 \n",
       "F-statistic: 4.455e+04 on 11 and 988 DF,  p-value: < 2.2e-16\n"
      ]
     },
     "metadata": {},
     "output_type": "display_data"
    }
   ],
   "source": [
    "poly_reg = lm(formula = Price ~ U1G0 + U3G0 + U4G0 + U1G1 + U2G1 + U3G1 + \n",
    "                U0G2 + U1G2 + U2G2 + U0G3 + U0G4 , data = google_data)\n",
    "summary(poly_reg)"
   ]
  },
  {
   "cell_type": "code",
   "execution_count": 7,
   "metadata": {},
   "outputs": [
    {
     "data": {
      "text/plain": [
       "\n",
       "Call:\n",
       "lm(formula = Price ~ U1G0 + U3G0 + U4G0 + U1G1 + U2G1 + U0G2 + \n",
       "    U1G2 + U2G2 + U0G3 + U0G4, data = google_data)\n",
       "\n",
       "Residuals:\n",
       "    Min      1Q  Median      3Q     Max \n",
       "-49.718  -4.200   1.624   5.689  12.841 \n",
       "\n",
       "Coefficients:\n",
       "              Estimate Std. Error t value Pr(>|t|)    \n",
       "(Intercept)  5.315e+01  1.671e+00  31.801  < 2e-16 ***\n",
       "U1G0        -7.834e+00  6.254e-01 -12.525  < 2e-16 ***\n",
       "U3G0         7.503e-02  9.998e-03   7.504 1.37e-13 ***\n",
       "U4G0        -2.960e-03  5.753e-04  -5.145 3.23e-07 ***\n",
       "U1G1         1.920e-02  1.078e-03  17.810  < 2e-16 ***\n",
       "U2G1        -1.222e-03  8.149e-05 -14.995  < 2e-16 ***\n",
       "U0G2         2.092e-04  3.528e-06  59.293  < 2e-16 ***\n",
       "U1G2        -6.287e-06  3.614e-07 -17.397  < 2e-16 ***\n",
       "U2G2         3.991e-07  2.743e-08  14.551  < 2e-16 ***\n",
       "U0G3        -9.119e-08  2.424e-09 -37.623  < 2e-16 ***\n",
       "U0G4         1.436e-11  4.384e-13  32.757  < 2e-16 ***\n",
       "---\n",
       "Signif. codes:  0 ‘***’ 0.001 ‘**’ 0.01 ‘*’ 0.05 ‘.’ 0.1 ‘ ’ 1\n",
       "\n",
       "Residual standard error: 7.913 on 989 degrees of freedom\n",
       "Multiple R-squared:  0.998,\tAdjusted R-squared:  0.9979 \n",
       "F-statistic: 4.817e+04 on 10 and 989 DF,  p-value: < 2.2e-16\n"
      ]
     },
     "metadata": {},
     "output_type": "display_data"
    }
   ],
   "source": [
    "poly_reg = lm(formula = Price ~ U1G0 + U3G0 + U4G0 + U1G1 + U2G1 + \n",
    "                U0G2 + U1G2 + U2G2 + U0G3 + U0G4 , data = google_data)\n",
    "summary(poly_reg)"
   ]
  },
  {
   "cell_type": "code",
   "execution_count": 8,
   "metadata": {},
   "outputs": [
    {
     "data": {
      "text/plain": [
       "\n",
       "Call:\n",
       "lm(formula = Price ~ U1G0 + U3G0 + U4G0 + U1G1 + U2G1 + U0G2 + \n",
       "    U1G2 + U2G2 + U0G3, data = google_data)\n",
       "\n",
       "Residuals:\n",
       "    Min      1Q  Median      3Q     Max \n",
       "-75.723  -6.303   1.235   6.491  34.248 \n",
       "\n",
       "Coefficients:\n",
       "              Estimate Std. Error t value Pr(>|t|)    \n",
       "(Intercept)  8.249e+01  2.036e+00  40.511  < 2e-16 ***\n",
       "U1G0        -1.702e+01  8.067e-01 -21.103  < 2e-16 ***\n",
       "U3G0         1.606e-01  1.393e-02  11.532  < 2e-16 ***\n",
       "U4G0        -6.291e-03  8.172e-04  -7.698 3.34e-14 ***\n",
       "U1G1         3.987e-02  1.261e-03  31.611  < 2e-16 ***\n",
       "U2G1        -2.516e-03  1.029e-04 -24.465  < 2e-16 ***\n",
       "U0G2         9.994e-05  1.660e-06  60.214  < 2e-16 ***\n",
       "U1G2        -1.278e-05  4.360e-07 -29.323  < 2e-16 ***\n",
       "U2G2         8.070e-07  3.527e-08  22.878  < 2e-16 ***\n",
       "U0G3        -1.290e-08  5.822e-10 -22.163  < 2e-16 ***\n",
       "---\n",
       "Signif. codes:  0 ‘***’ 0.001 ‘**’ 0.01 ‘*’ 0.05 ‘.’ 0.1 ‘ ’ 1\n",
       "\n",
       "Residual standard error: 11.42 on 990 degrees of freedom\n",
       "Multiple R-squared:  0.9957,\tAdjusted R-squared:  0.9957 \n",
       "F-statistic: 2.564e+04 on 9 and 990 DF,  p-value: < 2.2e-16\n"
      ]
     },
     "metadata": {},
     "output_type": "display_data"
    }
   ],
   "source": [
    "poly_reg = lm(formula = Price ~ U1G0 + U3G0 + U4G0 + U1G1 + U2G1 + \n",
    "                U0G2 + U1G2 + U2G2 + U0G3 , data = google_data)\n",
    "summary(poly_reg)"
   ]
  },
  {
   "cell_type": "code",
   "execution_count": 9,
   "metadata": {},
   "outputs": [
    {
     "data": {
      "text/plain": [
       "\n",
       "Call:\n",
       "lm(formula = Price ~ U1G0 + U3G0 + U4G0 + U1G1 + U2G1 + U0G2 + \n",
       "    U1G2 + U2G2, data = google_data)\n",
       "\n",
       "Residuals:\n",
       "    Min      1Q  Median      3Q     Max \n",
       "-91.150  -4.689  -0.228   5.680  52.289 \n",
       "\n",
       "Coefficients:\n",
       "              Estimate Std. Error t value Pr(>|t|)    \n",
       "(Intercept)  1.011e+02  2.269e+00  44.541   <2e-16 ***\n",
       "U1G0        -2.568e+01  8.630e-01 -29.755   <2e-16 ***\n",
       "U3G0         2.307e-01  1.658e-02  13.912   <2e-16 ***\n",
       "U4G0        -8.602e-03  9.909e-04  -8.681   <2e-16 ***\n",
       "U1G1         6.031e-02  1.052e-03  57.316   <2e-16 ***\n",
       "U2G1        -3.810e-03  1.035e-04 -36.805   <2e-16 ***\n",
       "U0G2         6.450e-05  5.428e-07 118.822   <2e-16 ***\n",
       "U1G2        -1.945e-05  3.860e-07 -50.380   <2e-16 ***\n",
       "U2G2         1.231e-06  3.622e-08  33.985   <2e-16 ***\n",
       "---\n",
       "Signif. codes:  0 ‘***’ 0.001 ‘**’ 0.01 ‘*’ 0.05 ‘.’ 0.1 ‘ ’ 1\n",
       "\n",
       "Residual standard error: 13.96 on 991 degrees of freedom\n",
       "Multiple R-squared:  0.9936,\tAdjusted R-squared:  0.9936 \n",
       "F-statistic: 1.926e+04 on 8 and 991 DF,  p-value: < 2.2e-16\n"
      ]
     },
     "metadata": {},
     "output_type": "display_data"
    }
   ],
   "source": [
    "poly_reg = lm(formula = Price ~ U1G0 + U3G0 + U4G0 + U1G1 + U2G1 + \n",
    "                U0G2 + U1G2 + U2G2 , data = google_data)\n",
    "summary(poly_reg)"
   ]
  },
  {
   "cell_type": "code",
   "execution_count": 10,
   "metadata": {},
   "outputs": [
    {
     "data": {
      "text/plain": [
       "\n",
       "Call:\n",
       "lm(formula = Price ~ U1G0 + U3G0 + U4G0 + U1G1 + U2G1 + U0G2 + \n",
       "    U1G2, data = google_data)\n",
       "\n",
       "Residuals:\n",
       "     Min       1Q   Median       3Q      Max \n",
       "-113.359   -8.888    0.946   10.948   55.958 \n",
       "\n",
       "Coefficients:\n",
       "              Estimate Std. Error t value Pr(>|t|)    \n",
       "(Intercept)  1.213e+02  3.220e+00  37.679  < 2e-16 ***\n",
       "U1G0        -2.026e+01  1.247e+00 -16.241  < 2e-16 ***\n",
       "U3G0         1.182e-01  2.390e-02   4.945 8.92e-07 ***\n",
       "U4G0        -5.226e-03  1.450e-03  -3.604 0.000329 ***\n",
       "U1G1         2.854e-02  7.104e-04  40.172  < 2e-16 ***\n",
       "U2G1        -5.654e-04  5.886e-05  -9.605  < 2e-16 ***\n",
       "U0G2         5.889e-05  7.606e-07  77.426  < 2e-16 ***\n",
       "U1G2        -6.800e-06  1.508e-07 -45.097  < 2e-16 ***\n",
       "---\n",
       "Signif. codes:  0 ‘***’ 0.001 ‘**’ 0.01 ‘*’ 0.05 ‘.’ 0.1 ‘ ’ 1\n",
       "\n",
       "Residual standard error: 20.54 on 992 degrees of freedom\n",
       "Multiple R-squared:  0.9862,\tAdjusted R-squared:  0.9861 \n",
       "F-statistic: 1.01e+04 on 7 and 992 DF,  p-value: < 2.2e-16\n"
      ]
     },
     "metadata": {},
     "output_type": "display_data"
    }
   ],
   "source": [
    "poly_reg = lm(formula = Price ~ U1G0 + U3G0 + U4G0 + U1G1 + U2G1 +\n",
    "                U0G2 + U1G2 , data = google_data)\n",
    "summary(poly_reg)"
   ]
  },
  {
   "cell_type": "code",
   "execution_count": 11,
   "metadata": {},
   "outputs": [
    {
     "data": {
      "text/plain": [
       "\n",
       "Call:\n",
       "lm(formula = Price ~ U1G0 + U3G0 + U4G0 + U1G1 + U2G1 + U0G2, \n",
       "    data = google_data)\n",
       "\n",
       "Residuals:\n",
       "    Min      1Q  Median      3Q     Max \n",
       "-164.27  -19.96   10.89   27.14   68.34 \n",
       "\n",
       "Coefficients:\n",
       "              Estimate Std. Error t value Pr(>|t|)    \n",
       "(Intercept)  1.761e+02  5.206e+00  33.825  < 2e-16 ***\n",
       "U1G0        -3.078e+01  2.139e+00 -14.390  < 2e-16 ***\n",
       "U3G0         3.017e-01  4.111e-02   7.339 4.48e-13 ***\n",
       "U4G0        -1.212e-02  2.517e-03  -4.814 1.71e-06 ***\n",
       "U1G1         2.437e-02  1.230e-03  19.822  < 2e-16 ***\n",
       "U2G1        -1.551e-03  9.540e-05 -16.257  < 2e-16 ***\n",
       "U0G2         4.026e-05  1.115e-06  36.114  < 2e-16 ***\n",
       "---\n",
       "Signif. codes:  0 ‘***’ 0.001 ‘**’ 0.01 ‘*’ 0.05 ‘.’ 0.1 ‘ ’ 1\n",
       "\n",
       "Residual standard error: 35.85 on 993 degrees of freedom\n",
       "Multiple R-squared:  0.9578,\tAdjusted R-squared:  0.9575 \n",
       "F-statistic:  3755 on 6 and 993 DF,  p-value: < 2.2e-16\n"
      ]
     },
     "metadata": {},
     "output_type": "display_data"
    }
   ],
   "source": [
    "poly_reg = lm(formula = Price ~ U1G0 + U3G0 + U4G0 + U1G1 + U2G1 + \n",
    "                U0G2, data = google_data)\n",
    "summary(poly_reg)"
   ]
  },
  {
   "cell_type": "code",
   "execution_count": 12,
   "metadata": {},
   "outputs": [
    {
     "data": {
      "text/plain": [
       "\n",
       "Call:\n",
       "lm(formula = Price ~ U1G0 + U4G0 + U1G1 + U2G1 + U0G2, data = google_data)\n",
       "\n",
       "Residuals:\n",
       "    Min      1Q  Median      3Q     Max \n",
       "-144.33  -23.83   10.17   26.76   79.48 \n",
       "\n",
       "Coefficients:\n",
       "              Estimate Std. Error t value Pr(>|t|)    \n",
       "(Intercept)  1.511e+02  4.039e+00   37.40   <2e-16 ***\n",
       "U1G0        -1.689e+01  1.022e+00  -16.53   <2e-16 ***\n",
       "U4G0         6.025e-03  4.862e-04   12.39   <2e-16 ***\n",
       "U1G1         2.052e-02  1.141e-03   17.98   <2e-16 ***\n",
       "U2G1        -1.239e-03  8.766e-05  -14.14   <2e-16 ***\n",
       "U0G2         4.282e-05  1.086e-06   39.41   <2e-16 ***\n",
       "---\n",
       "Signif. codes:  0 ‘***’ 0.001 ‘**’ 0.01 ‘*’ 0.05 ‘.’ 0.1 ‘ ’ 1\n",
       "\n",
       "Residual standard error: 36.79 on 994 degrees of freedom\n",
       "Multiple R-squared:  0.9555,\tAdjusted R-squared:  0.9553 \n",
       "F-statistic:  4268 on 5 and 994 DF,  p-value: < 2.2e-16\n"
      ]
     },
     "metadata": {},
     "output_type": "display_data"
    }
   ],
   "source": [
    "poly_reg = lm(formula = Price ~ U1G0 + U4G0 + U1G1 + U2G1 +\n",
    "                U0G2, data = google_data)\n",
    "summary(poly_reg)"
   ]
  },
  {
   "cell_type": "code",
   "execution_count": 13,
   "metadata": {},
   "outputs": [
    {
     "data": {
      "text/plain": [
       "\n",
       "Call:\n",
       "lm(formula = Price ~ U4G0 + U1G1 + U2G1 + U0G2, data = google_data)\n",
       "\n",
       "Residuals:\n",
       "    Min      1Q  Median      3Q     Max \n",
       "-97.899 -27.012   9.323  31.203  80.327 \n",
       "\n",
       "Coefficients:\n",
       "              Estimate Std. Error t value Pr(>|t|)    \n",
       "(Intercept)  9.848e+01  2.808e+00  35.074  < 2e-16 ***\n",
       "U4G0        -5.570e-04  3.149e-04  -1.769   0.0772 .  \n",
       "U1G1         7.059e-03  9.020e-04   7.826 1.29e-14 ***\n",
       "U2G1        -3.825e-04  7.979e-05  -4.794 1.88e-06 ***\n",
       "U0G2         5.560e-05  8.614e-07  64.544  < 2e-16 ***\n",
       "---\n",
       "Signif. codes:  0 ‘***’ 0.001 ‘**’ 0.01 ‘*’ 0.05 ‘.’ 0.1 ‘ ’ 1\n",
       "\n",
       "Residual standard error: 41.52 on 995 degrees of freedom\n",
       "Multiple R-squared:  0.9433,\tAdjusted R-squared:  0.943 \n",
       "F-statistic:  4135 on 4 and 995 DF,  p-value: < 2.2e-16\n"
      ]
     },
     "metadata": {},
     "output_type": "display_data"
    }
   ],
   "source": [
    "poly_reg = lm(formula = Price ~ U4G0 + U1G1 + U2G1 + \n",
    "                U0G2, data = google_data)\n",
    "summary(poly_reg)\n"
   ]
  },
  {
   "cell_type": "code",
   "execution_count": 14,
   "metadata": {},
   "outputs": [
    {
     "data": {
      "text/plain": [
       "\n",
       "Call:\n",
       "lm(formula = Price ~ U4G0 + U2G1 + U0G2, data = google_data)\n",
       "\n",
       "Residuals:\n",
       "    Min      1Q  Median      3Q     Max \n",
       "-110.75  -27.07   10.88   36.41   56.11 \n",
       "\n",
       "Coefficients:\n",
       "              Estimate Std. Error t value Pr(>|t|)    \n",
       "(Intercept)  1.113e+02  2.345e+00  47.475  < 2e-16 ***\n",
       "U4G0        -1.571e-03  2.955e-04  -5.315 1.32e-07 ***\n",
       "U2G1         2.071e-04  2.704e-05   7.662 4.34e-14 ***\n",
       "U0G2         5.971e-05  7.034e-07  84.884  < 2e-16 ***\n",
       "---\n",
       "Signif. codes:  0 ‘***’ 0.001 ‘**’ 0.01 ‘*’ 0.05 ‘.’ 0.1 ‘ ’ 1\n",
       "\n",
       "Residual standard error: 42.75 on 996 degrees of freedom\n",
       "Multiple R-squared:  0.9398,\tAdjusted R-squared:  0.9396 \n",
       "F-statistic:  5180 on 3 and 996 DF,  p-value: < 2.2e-16\n"
      ]
     },
     "metadata": {},
     "output_type": "display_data"
    }
   ],
   "source": [
    "poly_reg = lm(formula = Price ~ U4G0 + U2G1 + \n",
    "                U0G2, data = google_data)\n",
    "summary(poly_reg)"
   ]
  },
  {
   "cell_type": "code",
   "execution_count": 15,
   "metadata": {},
   "outputs": [
    {
     "data": {
      "text/plain": [
       "\n",
       "Call:\n",
       "lm(formula = Price ~ U4G0 + U0G2, data = google_data)\n",
       "\n",
       "Residuals:\n",
       "    Min      1Q  Median      3Q     Max \n",
       "-113.73  -31.47   10.30   40.33   50.72 \n",
       "\n",
       "Coefficients:\n",
       "             Estimate Std. Error t value Pr(>|t|)    \n",
       "(Intercept) 1.070e+02  2.340e+00  45.720   <2e-16 ***\n",
       "U4G0        2.615e-04  1.786e-04   1.464    0.144    \n",
       "U0G2        6.342e-05  5.246e-07 120.875   <2e-16 ***\n",
       "---\n",
       "Signif. codes:  0 ‘***’ 0.001 ‘**’ 0.01 ‘*’ 0.05 ‘.’ 0.1 ‘ ’ 1\n",
       "\n",
       "Residual standard error: 43.97 on 997 degrees of freedom\n",
       "Multiple R-squared:  0.9362,\tAdjusted R-squared:  0.9361 \n",
       "F-statistic:  7317 on 2 and 997 DF,  p-value: < 2.2e-16\n"
      ]
     },
     "metadata": {},
     "output_type": "display_data"
    }
   ],
   "source": [
    "poly_reg = lm(formula = Price ~ U4G0 + U0G2, data = google_data)\n",
    "summary(poly_reg)\n"
   ]
  },
  {
   "cell_type": "markdown",
   "metadata": {},
   "source": [
    "#### Visualizing the polynomial regression in 3D"
   ]
  },
  {
   "cell_type": "code",
   "execution_count": 20,
   "metadata": {},
   "outputs": [],
   "source": [
    "library(plotly)\n",
    "packageVersion('plotly')\n",
    "Users = google_data$U1G0\n",
    "Gb = google_data$U0G1\n",
    "Price = google_data$Price\n",
    "plot_ly( x=as.vector(Users),y=as.vector(Gb),z=Price, \n",
    "            type='scatter3d', name = (\"Obs\"), stream= list (size = 3)) %>%\n",
    "add_trace( x=as.vector(Users),y=as.vector(Gb),z=predict(poly_reg, newdata=google_data),\n",
    "      type = (\"mesh3d\"), name = (\"Preds\"))\n"
   ]
  },
  {
   "cell_type": "code",
   "execution_count": null,
   "metadata": {},
   "outputs": [],
   "source": []
  },
  {
   "cell_type": "code",
   "execution_count": null,
   "metadata": {},
   "outputs": [],
   "source": []
  }
 ],
 "metadata": {
  "kernelspec": {
   "display_name": "R",
   "language": "R",
   "name": "ir"
  },
  "language_info": {
   "codemirror_mode": "r",
   "file_extension": ".r",
   "mimetype": "text/x-r-source",
   "name": "R",
   "pygments_lexer": "r",
   "version": "3.5.1"
  }
 },
 "nbformat": 4,
 "nbformat_minor": 2
}
